{
 "cells": [
  {
   "cell_type": "markdown",
   "metadata": {},
   "source": [
    "# Programming and Database project\n",
    "\n",
    "## Cars for sale in the US: an analysis\n",
    "\n",
    "\n",
    "\n"
   ]
  },
  {
   "cell_type": "markdown",
   "metadata": {},
   "source": [
    "**Student**: Gianello Alessio <br>\n",
    "**ID**: VR502062"
   ]
  },
  {
   "cell_type": "markdown",
   "metadata": {},
   "source": [
    "## Import and Clean of the dataset\n",
    "\n",
    "This dataset provides comprehensive information about used cars available for sale in the United States. It includes detailed data on various aspects of each vehicle, making it a valuable resource for car buyers, sellers, and data enthusiasts. \n",
    "The dataset contains the following key attributes:\n",
    "- Model: The specific model of the car.\n",
    "- Mileage: The number of miles the car has been driven.\n",
    "- Year: The manufacturing year of the car.\n",
    "- Status: Indicates whether the car is new, used, or certified pre-owned.\n",
    "- Dealer: Information about the dealer or seller offering the car.\n",
    "- Price: The listed price of the car in USD.\n",
    "\n",
    "dataset source: https://www.kaggle.com/datasets/juanmerinobermejo/us-sales-cars-dataset\n",
    "\n"
   ]
  },
  {
   "cell_type": "markdown",
   "metadata": {},
   "source": [
    "Useful imports:\n"
   ]
  },
  {
   "cell_type": "code",
   "execution_count": 158,
   "metadata": {},
   "outputs": [],
   "source": [
    "import pandas as pd"
   ]
  },
  {
   "cell_type": "code",
   "execution_count": 159,
   "metadata": {},
   "outputs": [],
   "source": [
    "# Reading data\n",
    "cars_list_df = pd.read_csv('cars.csv', encoding='utf-16')"
   ]
  },
  {
   "cell_type": "code",
   "execution_count": 160,
   "metadata": {},
   "outputs": [
    {
     "data": {
      "text/html": [
       "<div>\n",
       "<style scoped>\n",
       "    .dataframe tbody tr th:only-of-type {\n",
       "        vertical-align: middle;\n",
       "    }\n",
       "\n",
       "    .dataframe tbody tr th {\n",
       "        vertical-align: top;\n",
       "    }\n",
       "\n",
       "    .dataframe thead th {\n",
       "        text-align: right;\n",
       "    }\n",
       "</style>\n",
       "<table border=\"1\" class=\"dataframe\">\n",
       "  <thead>\n",
       "    <tr style=\"text-align: right;\">\n",
       "      <th></th>\n",
       "      <th>Brand</th>\n",
       "      <th>Model</th>\n",
       "      <th>Year</th>\n",
       "      <th>Status</th>\n",
       "      <th>Mileage</th>\n",
       "      <th>Dealer</th>\n",
       "      <th>Price</th>\n",
       "    </tr>\n",
       "  </thead>\n",
       "  <tbody>\n",
       "    <tr>\n",
       "      <th>0</th>\n",
       "      <td>Mazda</td>\n",
       "      <td>CX-5</td>\n",
       "      <td>2023</td>\n",
       "      <td>New</td>\n",
       "      <td>NaN</td>\n",
       "      <td>NaN</td>\n",
       "      <td>36703.0</td>\n",
       "    </tr>\n",
       "    <tr>\n",
       "      <th>1</th>\n",
       "      <td>Kia</td>\n",
       "      <td>Sportage</td>\n",
       "      <td>2023</td>\n",
       "      <td>New</td>\n",
       "      <td>NaN</td>\n",
       "      <td>Classic Kia</td>\n",
       "      <td>28990.0</td>\n",
       "    </tr>\n",
       "    <tr>\n",
       "      <th>2</th>\n",
       "      <td>Chevrolet</td>\n",
       "      <td>Camaro</td>\n",
       "      <td>2024</td>\n",
       "      <td>New</td>\n",
       "      <td>NaN</td>\n",
       "      <td>Classic Chevrolet Beaumont</td>\n",
       "      <td>41425.0</td>\n",
       "    </tr>\n",
       "    <tr>\n",
       "      <th>3</th>\n",
       "      <td>Ford</td>\n",
       "      <td>Bronco</td>\n",
       "      <td>2023</td>\n",
       "      <td>Used</td>\n",
       "      <td>1551.0</td>\n",
       "      <td>Mike Smith Chrysler Dodge Jeep RAM</td>\n",
       "      <td>58900.0</td>\n",
       "    </tr>\n",
       "    <tr>\n",
       "      <th>4</th>\n",
       "      <td>Acura</td>\n",
       "      <td>TLX</td>\n",
       "      <td>2021</td>\n",
       "      <td>Used</td>\n",
       "      <td>30384.0</td>\n",
       "      <td>Mike Smith Nissan</td>\n",
       "      <td>34499.0</td>\n",
       "    </tr>\n",
       "    <tr>\n",
       "      <th>5</th>\n",
       "      <td>Volkswagen</td>\n",
       "      <td>Golf</td>\n",
       "      <td>2022</td>\n",
       "      <td>Certified</td>\n",
       "      <td>13895.0</td>\n",
       "      <td>Volkswagen of Beaumont</td>\n",
       "      <td>34000.0</td>\n",
       "    </tr>\n",
       "    <tr>\n",
       "      <th>6</th>\n",
       "      <td>GMC</td>\n",
       "      <td>Yukon</td>\n",
       "      <td>2021</td>\n",
       "      <td>Used</td>\n",
       "      <td>68506.0</td>\n",
       "      <td>BMW of Beaumont</td>\n",
       "      <td>56954.0</td>\n",
       "    </tr>\n",
       "    <tr>\n",
       "      <th>7</th>\n",
       "      <td>BMW</td>\n",
       "      <td>M340</td>\n",
       "      <td>2023</td>\n",
       "      <td>New</td>\n",
       "      <td>NaN</td>\n",
       "      <td>BMW of Beaumont</td>\n",
       "      <td>61715.0</td>\n",
       "    </tr>\n",
       "    <tr>\n",
       "      <th>8</th>\n",
       "      <td>Hyundai</td>\n",
       "      <td>Sonata</td>\n",
       "      <td>2023</td>\n",
       "      <td>New</td>\n",
       "      <td>NaN</td>\n",
       "      <td>Hyundai of Silsbee</td>\n",
       "      <td>37945.0</td>\n",
       "    </tr>\n",
       "    <tr>\n",
       "      <th>9</th>\n",
       "      <td>Hyundai</td>\n",
       "      <td>Sonata</td>\n",
       "      <td>2023</td>\n",
       "      <td>New</td>\n",
       "      <td>NaN</td>\n",
       "      <td>Hyundai of Silsbee</td>\n",
       "      <td>33495.0</td>\n",
       "    </tr>\n",
       "  </tbody>\n",
       "</table>\n",
       "</div>"
      ],
      "text/plain": [
       "        Brand     Model  Year     Status  Mileage  \\\n",
       "0       Mazda      CX-5  2023        New      NaN   \n",
       "1         Kia  Sportage  2023        New      NaN   \n",
       "2   Chevrolet    Camaro  2024        New      NaN   \n",
       "3        Ford    Bronco  2023       Used   1551.0   \n",
       "4       Acura       TLX  2021       Used  30384.0   \n",
       "5  Volkswagen      Golf  2022  Certified  13895.0   \n",
       "6         GMC     Yukon  2021       Used  68506.0   \n",
       "7         BMW      M340  2023        New      NaN   \n",
       "8     Hyundai    Sonata  2023        New      NaN   \n",
       "9     Hyundai    Sonata  2023        New      NaN   \n",
       "\n",
       "                               Dealer    Price  \n",
       "0                                 NaN  36703.0  \n",
       "1                         Classic Kia  28990.0  \n",
       "2          Classic Chevrolet Beaumont  41425.0  \n",
       "3  Mike Smith Chrysler Dodge Jeep RAM  58900.0  \n",
       "4                   Mike Smith Nissan  34499.0  \n",
       "5              Volkswagen of Beaumont  34000.0  \n",
       "6                     BMW of Beaumont  56954.0  \n",
       "7                     BMW of Beaumont  61715.0  \n",
       "8                  Hyundai of Silsbee  37945.0  \n",
       "9                  Hyundai of Silsbee  33495.0  "
      ]
     },
     "execution_count": 160,
     "metadata": {},
     "output_type": "execute_result"
    }
   ],
   "source": [
    "# Taking a look at what we have at hand\n",
    "cars_list_df.head(10)"
   ]
  },
  {
   "cell_type": "code",
   "execution_count": 161,
   "metadata": {},
   "outputs": [
    {
     "name": "stdout",
     "output_type": "stream",
     "text": [
      "<class 'pandas.core.frame.DataFrame'>\n",
      "RangeIndex: 51793 entries, 0 to 51792\n",
      "Data columns (total 7 columns):\n",
      " #   Column   Non-Null Count  Dtype  \n",
      "---  ------   --------------  -----  \n",
      " 0   Brand    51793 non-null  object \n",
      " 1   Model    51793 non-null  object \n",
      " 2   Year     51793 non-null  int64  \n",
      " 3   Status   51793 non-null  object \n",
      " 4   Mileage  22981 non-null  float64\n",
      " 5   Dealer   51689 non-null  object \n",
      " 6   Price    50644 non-null  float64\n",
      "dtypes: float64(2), int64(1), object(4)\n",
      "memory usage: 2.8+ MB\n"
     ]
    }
   ],
   "source": [
    "# Taking a closer look\n",
    "cars_list_df.info()"
   ]
  },
  {
   "cell_type": "markdown",
   "metadata": {},
   "source": [
    "It's evident that there are a lot of null values, mainly in column 4, more precisely:"
   ]
  },
  {
   "cell_type": "code",
   "execution_count": 162,
   "metadata": {},
   "outputs": [
    {
     "data": {
      "text/plain": [
       "Brand      100.000000\n",
       "Model      100.000000\n",
       "Year       100.000000\n",
       "Status     100.000000\n",
       "Mileage     44.370861\n",
       "Dealer      99.799201\n",
       "Price       97.781553\n",
       "dtype: float64"
      ]
     },
     "execution_count": 162,
     "metadata": {},
     "output_type": "execute_result"
    }
   ],
   "source": [
    "#percentage of not-null values in each columns, i define a function beacuse I'll surely need to use it later\n",
    "\n",
    "def get_null_percentage(df): \n",
    " df_length =len(df)\n",
    " return (df.notnull().sum()/df_length)*100 \n",
    "\n",
    "get_null_percentage(cars_list_df)\n"
   ]
  },
  {
   "cell_type": "markdown",
   "metadata": {},
   "source": [
    "Set columns name to lower case:\n"
   ]
  },
  {
   "cell_type": "code",
   "execution_count": 163,
   "metadata": {},
   "outputs": [],
   "source": [
    "cars_list_df.columns = cars_list_df.columns.map(lambda x: x.lower())"
   ]
  },
  {
   "cell_type": "markdown",
   "metadata": {},
   "source": [
    "## Managing null values"
   ]
  },
  {
   "cell_type": "markdown",
   "metadata": {},
   "source": [
    "As we can see, mileage has a low percentage of not null value, being it so important for our analysis, we have to get rid of rows with null mileage (column number 4), same for the price (number 6)"
   ]
  },
  {
   "cell_type": "code",
   "execution_count": 164,
   "metadata": {},
   "outputs": [],
   "source": [
    "cars_list_df = cars_list_df.dropna(subset=['mileage','price'])\n"
   ]
  },
  {
   "cell_type": "markdown",
   "metadata": {},
   "source": [
    "Now our dataset has been significantly resized, but we can surely expect a better quality analysis."
   ]
  },
  {
   "cell_type": "markdown",
   "metadata": {},
   "source": [
    "We still need to handle the null values in the 'Dealer' field. Since this is a descriptive (and not quantitative) field, we will replace the null values with 'Unknown dealer'\n"
   ]
  },
  {
   "cell_type": "code",
   "execution_count": 165,
   "metadata": {},
   "outputs": [],
   "source": [
    "cars_list_df['dealer'].fillna('unkown_dealer', inplace=True) # Inplace = True edits the original df"
   ]
  },
  {
   "cell_type": "markdown",
   "metadata": {},
   "source": [
    "We now shouldn't have colums with null values, let's check it:"
   ]
  },
  {
   "cell_type": "code",
   "execution_count": 166,
   "metadata": {},
   "outputs": [
    {
     "data": {
      "text/plain": [
       "brand      100.0\n",
       "model      100.0\n",
       "year       100.0\n",
       "status     100.0\n",
       "mileage    100.0\n",
       "dealer     100.0\n",
       "price      100.0\n",
       "dtype: float64"
      ]
     },
     "execution_count": 166,
     "metadata": {},
     "output_type": "execute_result"
    }
   ],
   "source": [
    "#percentage of not-null values in each columns\n",
    "\n",
    "get_null_percentage(cars_list_df)"
   ]
  },
  {
   "cell_type": "markdown",
   "metadata": {},
   "source": [
    "## Analysis of attributes and links between them"
   ]
  },
  {
   "cell_type": "markdown",
   "metadata": {},
   "source": [
    "In the following sections I'll perform a .value_counts() for every descriptive column of the dataframe, to check for anomalies."
   ]
  },
  {
   "cell_type": "code",
   "execution_count": 167,
   "metadata": {},
   "outputs": [
    {
     "data": {
      "text/plain": [
       "Acura                   501\n",
       "Alfa Romeo               67\n",
       "Aston Martin             17\n",
       "Audi                    932\n",
       "BMW                    1393\n",
       "Bentley                  44\n",
       "Buick                   138\n",
       "Cadillac                541\n",
       "Chevrolet              1951\n",
       "Chrysler                119\n",
       "Dodge                   466\n",
       "FIAT                     26\n",
       "Ferrari                  47\n",
       "Ford                   2614\n",
       "GMC                     806\n",
       "Genesis                 198\n",
       "Geo                       1\n",
       "Honda                  1097\n",
       "Hummer                   19\n",
       "Hyundai                 411\n",
       "Infiniti                363\n",
       "International Scout       1\n",
       "Isuzu                     1\n",
       "Jaguar                  134\n",
       "Jeep                    876\n",
       "Karma                     4\n",
       "Kia                     502\n",
       "Lamborghini              37\n",
       "Land Rover              410\n",
       "Lexus                  1218\n",
       "Lincoln                 342\n",
       "Lotus                     3\n",
       "Lucid                     4\n",
       "MINI                     79\n",
       "Maserati                 70\n",
       "Maybach                   1\n",
       "Mazda                   463\n",
       "McLaren                  14\n",
       "Mercedes               1031\n",
       "Mercury                   7\n",
       "Mitsubishi              116\n",
       "Nissan                  602\n",
       "Oldsmobile                1\n",
       "Polestar                 23\n",
       "Pontiac                  40\n",
       "Porsche                 679\n",
       "RAM                     340\n",
       "Rivian                   10\n",
       "Rolls-Royce              28\n",
       "Saab                      6\n",
       "Saturn                   15\n",
       "Scion                    24\n",
       "Smart                     3\n",
       "Subaru                  393\n",
       "Suzuki                    3\n",
       "Tesla                   351\n",
       "Toyota                 2530\n",
       "Volkswagen              485\n",
       "Volvo                   377\n",
       "Name: brand, dtype: int64"
      ]
     },
     "execution_count": 167,
     "metadata": {},
     "output_type": "execute_result"
    }
   ],
   "source": [
    "cars_list_df.brand.value_counts().sort_index() #Sorting index for a faster check for troubles"
   ]
  },
  {
   "cell_type": "code",
   "execution_count": 168,
   "metadata": {},
   "outputs": [
    {
     "data": {
      "text/plain": [
       "59"
      ]
     },
     "execution_count": 168,
     "metadata": {},
     "output_type": "execute_result"
    }
   ],
   "source": [
    "brand =cars_list_df.brand.value_counts().index\n",
    "len(brand)"
   ]
  },
  {
   "cell_type": "code",
   "execution_count": 169,
   "metadata": {},
   "outputs": [
    {
     "data": {
      "text/plain": [
       "59"
      ]
     },
     "execution_count": 169,
     "metadata": {},
     "output_type": "execute_result"
    }
   ],
   "source": [
    "formatted_brand = brand.map(lambda x: x.lower().replace(' ','_').replace('-',''))\n",
    "len(formatted_brand)"
   ]
  },
  {
   "cell_type": "code",
   "execution_count": 170,
   "metadata": {},
   "outputs": [
    {
     "data": {
      "text/plain": [
       "Acura                   501\n",
       "Alfa Romeo               67\n",
       "Aston Martin             17\n",
       "Audi                    932\n",
       "BMW                    1393\n",
       "Bentley                  44\n",
       "Buick                   138\n",
       "Cadillac                541\n",
       "Chevrolet              1951\n",
       "Chrysler                119\n",
       "Dodge                   466\n",
       "FIAT                     26\n",
       "Ferrari                  47\n",
       "Ford                   2614\n",
       "GMC                     806\n",
       "Genesis                 198\n",
       "Geo                       1\n",
       "Honda                  1097\n",
       "Hummer                   19\n",
       "Hyundai                 411\n",
       "Infiniti                363\n",
       "International Scout       1\n",
       "Isuzu                     1\n",
       "Jaguar                  134\n",
       "Jeep                    876\n",
       "Karma                     4\n",
       "Kia                     502\n",
       "Lamborghini              37\n",
       "Land Rover              410\n",
       "Lexus                  1218\n",
       "Lincoln                 342\n",
       "Lotus                     3\n",
       "Lucid                     4\n",
       "MINI                     79\n",
       "Maserati                 70\n",
       "Maybach                   1\n",
       "Mazda                   463\n",
       "McLaren                  14\n",
       "Mercedes               1031\n",
       "Mercury                   7\n",
       "Mitsubishi              116\n",
       "Nissan                  602\n",
       "Oldsmobile                1\n",
       "Polestar                 23\n",
       "Pontiac                  40\n",
       "Porsche                 679\n",
       "RAM                     340\n",
       "Rivian                   10\n",
       "Rolls-Royce              28\n",
       "Saab                      6\n",
       "Saturn                   15\n",
       "Scion                    24\n",
       "Smart                     3\n",
       "Subaru                  393\n",
       "Suzuki                    3\n",
       "Tesla                   351\n",
       "Toyota                 2530\n",
       "Volkswagen              485\n",
       "Volvo                   377\n",
       "Name: brand, dtype: int64"
      ]
     },
     "execution_count": 170,
     "metadata": {},
     "output_type": "execute_result"
    }
   ],
   "source": [
    "cars_list_df.brand.value_counts() #Sorting index for a faster check for troubles"
   ]
  },
  {
   "cell_type": "code",
   "execution_count": 171,
   "metadata": {},
   "outputs": [
    {
     "data": {
      "text/plain": [
       "560"
      ]
     },
     "execution_count": 171,
     "metadata": {},
     "output_type": "execute_result"
    }
   ],
   "source": [
    "models =cars_list_df.model.value_counts().sort_index().index\n",
    "len(models)"
   ]
  },
  {
   "cell_type": "code",
   "execution_count": 172,
   "metadata": {},
   "outputs": [
    {
     "data": {
      "text/plain": [
       "560"
      ]
     },
     "execution_count": 172,
     "metadata": {},
     "output_type": "execute_result"
    }
   ],
   "source": [
    "formatted_models = models.map(lambda x: x.lower().replace(' ','_').replace('-',''))\n",
    "len(formatted_models)"
   ]
  },
  {
   "cell_type": "markdown",
   "metadata": {},
   "source": [
    "So there aren't doubles in car models or brands caused by format problems, I can get back to my analysis"
   ]
  },
  {
   "cell_type": "code",
   "execution_count": null,
   "metadata": {},
   "outputs": [],
   "source": []
  }
 ],
 "metadata": {
  "kernelspec": {
   "display_name": "Python 3",
   "language": "python",
   "name": "python3"
  },
  "language_info": {
   "codemirror_mode": {
    "name": "ipython",
    "version": 3
   },
   "file_extension": ".py",
   "mimetype": "text/x-python",
   "name": "python",
   "nbconvert_exporter": "python",
   "pygments_lexer": "ipython3",
   "version": "3.9.1"
  }
 },
 "nbformat": 4,
 "nbformat_minor": 2
}
