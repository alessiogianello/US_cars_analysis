{
 "cells": [
  {
   "cell_type": "markdown",
   "metadata": {},
   "source": [
    "# Programming and Database project\n",
    "\n",
    "## Cars for sale in the US: an analysis\n",
    "\n",
    "\n",
    "\n"
   ]
  },
  {
   "cell_type": "markdown",
   "metadata": {},
   "source": [
    "**Student**: Gianello Alessio <br>\n",
    "**ID**: VR502062"
   ]
  },
  {
   "cell_type": "markdown",
   "metadata": {},
   "source": [
    "## Import and Clean of the dataset\n",
    "\n",
    "This dataset provides comprehensive information about used cars available for sale in the United States. It includes detailed data on various aspects of each vehicle, making it a valuable resource for car buyers, sellers, and data enthusiasts. \n",
    "The dataset contains the following key attributes:\n",
    "- Model: The specific model of the car.\n",
    "- Mileage: The number of miles the car has been driven.\n",
    "- Year: The manufacturing year of the car.\n",
    "- Status: Indicates whether the car is new, used, or certified pre-owned.\n",
    "- Dealer: Information about the dealer or seller offering the car.\n",
    "- Price: The listed price of the car in USD.\n",
    "\n",
    "dataset source: https://www.kaggle.com/datasets/juanmerinobermejo/us-sales-cars-dataset\n",
    "\n"
   ]
  },
  {
   "cell_type": "markdown",
   "metadata": {},
   "source": [
    "Useful imports:\n"
   ]
  },
  {
   "cell_type": "code",
   "execution_count": 212,
   "metadata": {},
   "outputs": [],
   "source": [
    "import pandas as pd"
   ]
  },
  {
   "cell_type": "code",
   "execution_count": 213,
   "metadata": {},
   "outputs": [],
   "source": [
    "# Reading data\n",
    "cars_list_df = pd.read_csv('cars.csv', encoding='utf-16')"
   ]
  },
  {
   "cell_type": "code",
   "execution_count": 214,
   "metadata": {},
   "outputs": [
    {
     "data": {
      "text/html": [
       "<div>\n",
       "<style scoped>\n",
       "    .dataframe tbody tr th:only-of-type {\n",
       "        vertical-align: middle;\n",
       "    }\n",
       "\n",
       "    .dataframe tbody tr th {\n",
       "        vertical-align: top;\n",
       "    }\n",
       "\n",
       "    .dataframe thead th {\n",
       "        text-align: right;\n",
       "    }\n",
       "</style>\n",
       "<table border=\"1\" class=\"dataframe\">\n",
       "  <thead>\n",
       "    <tr style=\"text-align: right;\">\n",
       "      <th></th>\n",
       "      <th>Brand</th>\n",
       "      <th>Model</th>\n",
       "      <th>Year</th>\n",
       "      <th>Status</th>\n",
       "      <th>Mileage</th>\n",
       "      <th>Dealer</th>\n",
       "      <th>Price</th>\n",
       "    </tr>\n",
       "  </thead>\n",
       "  <tbody>\n",
       "    <tr>\n",
       "      <th>0</th>\n",
       "      <td>Mazda</td>\n",
       "      <td>CX-5</td>\n",
       "      <td>2023</td>\n",
       "      <td>New</td>\n",
       "      <td>NaN</td>\n",
       "      <td>NaN</td>\n",
       "      <td>36703.0</td>\n",
       "    </tr>\n",
       "    <tr>\n",
       "      <th>1</th>\n",
       "      <td>Kia</td>\n",
       "      <td>Sportage</td>\n",
       "      <td>2023</td>\n",
       "      <td>New</td>\n",
       "      <td>NaN</td>\n",
       "      <td>Classic Kia</td>\n",
       "      <td>28990.0</td>\n",
       "    </tr>\n",
       "    <tr>\n",
       "      <th>2</th>\n",
       "      <td>Chevrolet</td>\n",
       "      <td>Camaro</td>\n",
       "      <td>2024</td>\n",
       "      <td>New</td>\n",
       "      <td>NaN</td>\n",
       "      <td>Classic Chevrolet Beaumont</td>\n",
       "      <td>41425.0</td>\n",
       "    </tr>\n",
       "    <tr>\n",
       "      <th>3</th>\n",
       "      <td>Ford</td>\n",
       "      <td>Bronco</td>\n",
       "      <td>2023</td>\n",
       "      <td>Used</td>\n",
       "      <td>1551.0</td>\n",
       "      <td>Mike Smith Chrysler Dodge Jeep RAM</td>\n",
       "      <td>58900.0</td>\n",
       "    </tr>\n",
       "    <tr>\n",
       "      <th>4</th>\n",
       "      <td>Acura</td>\n",
       "      <td>TLX</td>\n",
       "      <td>2021</td>\n",
       "      <td>Used</td>\n",
       "      <td>30384.0</td>\n",
       "      <td>Mike Smith Nissan</td>\n",
       "      <td>34499.0</td>\n",
       "    </tr>\n",
       "    <tr>\n",
       "      <th>5</th>\n",
       "      <td>Volkswagen</td>\n",
       "      <td>Golf</td>\n",
       "      <td>2022</td>\n",
       "      <td>Certified</td>\n",
       "      <td>13895.0</td>\n",
       "      <td>Volkswagen of Beaumont</td>\n",
       "      <td>34000.0</td>\n",
       "    </tr>\n",
       "    <tr>\n",
       "      <th>6</th>\n",
       "      <td>GMC</td>\n",
       "      <td>Yukon</td>\n",
       "      <td>2021</td>\n",
       "      <td>Used</td>\n",
       "      <td>68506.0</td>\n",
       "      <td>BMW of Beaumont</td>\n",
       "      <td>56954.0</td>\n",
       "    </tr>\n",
       "    <tr>\n",
       "      <th>7</th>\n",
       "      <td>BMW</td>\n",
       "      <td>M340</td>\n",
       "      <td>2023</td>\n",
       "      <td>New</td>\n",
       "      <td>NaN</td>\n",
       "      <td>BMW of Beaumont</td>\n",
       "      <td>61715.0</td>\n",
       "    </tr>\n",
       "    <tr>\n",
       "      <th>8</th>\n",
       "      <td>Hyundai</td>\n",
       "      <td>Sonata</td>\n",
       "      <td>2023</td>\n",
       "      <td>New</td>\n",
       "      <td>NaN</td>\n",
       "      <td>Hyundai of Silsbee</td>\n",
       "      <td>37945.0</td>\n",
       "    </tr>\n",
       "    <tr>\n",
       "      <th>9</th>\n",
       "      <td>Hyundai</td>\n",
       "      <td>Sonata</td>\n",
       "      <td>2023</td>\n",
       "      <td>New</td>\n",
       "      <td>NaN</td>\n",
       "      <td>Hyundai of Silsbee</td>\n",
       "      <td>33495.0</td>\n",
       "    </tr>\n",
       "  </tbody>\n",
       "</table>\n",
       "</div>"
      ],
      "text/plain": [
       "        Brand     Model  Year     Status  Mileage  \\\n",
       "0       Mazda      CX-5  2023        New      NaN   \n",
       "1         Kia  Sportage  2023        New      NaN   \n",
       "2   Chevrolet    Camaro  2024        New      NaN   \n",
       "3        Ford    Bronco  2023       Used   1551.0   \n",
       "4       Acura       TLX  2021       Used  30384.0   \n",
       "5  Volkswagen      Golf  2022  Certified  13895.0   \n",
       "6         GMC     Yukon  2021       Used  68506.0   \n",
       "7         BMW      M340  2023        New      NaN   \n",
       "8     Hyundai    Sonata  2023        New      NaN   \n",
       "9     Hyundai    Sonata  2023        New      NaN   \n",
       "\n",
       "                               Dealer    Price  \n",
       "0                                 NaN  36703.0  \n",
       "1                         Classic Kia  28990.0  \n",
       "2          Classic Chevrolet Beaumont  41425.0  \n",
       "3  Mike Smith Chrysler Dodge Jeep RAM  58900.0  \n",
       "4                   Mike Smith Nissan  34499.0  \n",
       "5              Volkswagen of Beaumont  34000.0  \n",
       "6                     BMW of Beaumont  56954.0  \n",
       "7                     BMW of Beaumont  61715.0  \n",
       "8                  Hyundai of Silsbee  37945.0  \n",
       "9                  Hyundai of Silsbee  33495.0  "
      ]
     },
     "execution_count": 214,
     "metadata": {},
     "output_type": "execute_result"
    }
   ],
   "source": [
    "# Taking a look at what we have at hand\n",
    "cars_list_df.head(10)"
   ]
  },
  {
   "cell_type": "code",
   "execution_count": 215,
   "metadata": {},
   "outputs": [
    {
     "name": "stdout",
     "output_type": "stream",
     "text": [
      "<class 'pandas.core.frame.DataFrame'>\n",
      "RangeIndex: 51793 entries, 0 to 51792\n",
      "Data columns (total 7 columns):\n",
      " #   Column   Non-Null Count  Dtype  \n",
      "---  ------   --------------  -----  \n",
      " 0   Brand    51793 non-null  object \n",
      " 1   Model    51793 non-null  object \n",
      " 2   Year     51793 non-null  int64  \n",
      " 3   Status   51793 non-null  object \n",
      " 4   Mileage  22981 non-null  float64\n",
      " 5   Dealer   51689 non-null  object \n",
      " 6   Price    50644 non-null  float64\n",
      "dtypes: float64(2), int64(1), object(4)\n",
      "memory usage: 2.8+ MB\n"
     ]
    }
   ],
   "source": [
    "# Taking a closer look\n",
    "cars_list_df.info()"
   ]
  },
  {
   "cell_type": "markdown",
   "metadata": {},
   "source": [
    "Set columns name to lower case:"
   ]
  },
  {
   "cell_type": "code",
   "execution_count": 216,
   "metadata": {},
   "outputs": [],
   "source": [
    "cars_list_df.columns = cars_list_df.columns.map(lambda x: x.lower())"
   ]
  },
  {
   "cell_type": "markdown",
   "metadata": {},
   "source": [
    "It's evident that there are a lot of null values, mainly in column 4, more precisely:"
   ]
  },
  {
   "cell_type": "code",
   "execution_count": 217,
   "metadata": {},
   "outputs": [
    {
     "data": {
      "text/plain": [
       "brand      100.000000\n",
       "model      100.000000\n",
       "year       100.000000\n",
       "status     100.000000\n",
       "mileage     44.370861\n",
       "dealer      99.799201\n",
       "price       97.781553\n",
       "dtype: float64"
      ]
     },
     "execution_count": 217,
     "metadata": {},
     "output_type": "execute_result"
    }
   ],
   "source": [
    "#percentage of not-null values in each columns, i define a function beacuse I'll surely need to use it later\n",
    "\n",
    "def get_null_percentage(df): \n",
    " df_length =len(df)\n",
    " return (df.notnull().sum()/df_length)*100 \n",
    "\n",
    "get_null_percentage(cars_list_df)\n"
   ]
  },
  {
   "cell_type": "markdown",
   "metadata": {},
   "source": [
    "## Managing null values"
   ]
  },
  {
   "cell_type": "markdown",
   "metadata": {},
   "source": [
    "Mileage has a huge percentage of null values. It may be tempting to drop them, but getting a closer look:"
   ]
  },
  {
   "cell_type": "code",
   "execution_count": 218,
   "metadata": {},
   "outputs": [
    {
     "data": {
      "text/html": [
       "<div>\n",
       "<style scoped>\n",
       "    .dataframe tbody tr th:only-of-type {\n",
       "        vertical-align: middle;\n",
       "    }\n",
       "\n",
       "    .dataframe tbody tr th {\n",
       "        vertical-align: top;\n",
       "    }\n",
       "\n",
       "    .dataframe thead th {\n",
       "        text-align: right;\n",
       "    }\n",
       "</style>\n",
       "<table border=\"1\" class=\"dataframe\">\n",
       "  <thead>\n",
       "    <tr style=\"text-align: right;\">\n",
       "      <th></th>\n",
       "      <th>brand</th>\n",
       "      <th>model</th>\n",
       "      <th>year</th>\n",
       "      <th>status</th>\n",
       "      <th>mileage</th>\n",
       "      <th>dealer</th>\n",
       "      <th>price</th>\n",
       "    </tr>\n",
       "  </thead>\n",
       "  <tbody>\n",
       "    <tr>\n",
       "      <th>0</th>\n",
       "      <td>Mazda</td>\n",
       "      <td>CX-5</td>\n",
       "      <td>2023</td>\n",
       "      <td>New</td>\n",
       "      <td>NaN</td>\n",
       "      <td>NaN</td>\n",
       "      <td>36703.0</td>\n",
       "    </tr>\n",
       "    <tr>\n",
       "      <th>1</th>\n",
       "      <td>Kia</td>\n",
       "      <td>Sportage</td>\n",
       "      <td>2023</td>\n",
       "      <td>New</td>\n",
       "      <td>NaN</td>\n",
       "      <td>Classic Kia</td>\n",
       "      <td>28990.0</td>\n",
       "    </tr>\n",
       "    <tr>\n",
       "      <th>2</th>\n",
       "      <td>Chevrolet</td>\n",
       "      <td>Camaro</td>\n",
       "      <td>2024</td>\n",
       "      <td>New</td>\n",
       "      <td>NaN</td>\n",
       "      <td>Classic Chevrolet Beaumont</td>\n",
       "      <td>41425.0</td>\n",
       "    </tr>\n",
       "    <tr>\n",
       "      <th>7</th>\n",
       "      <td>BMW</td>\n",
       "      <td>M340</td>\n",
       "      <td>2023</td>\n",
       "      <td>New</td>\n",
       "      <td>NaN</td>\n",
       "      <td>BMW of Beaumont</td>\n",
       "      <td>61715.0</td>\n",
       "    </tr>\n",
       "    <tr>\n",
       "      <th>8</th>\n",
       "      <td>Hyundai</td>\n",
       "      <td>Sonata</td>\n",
       "      <td>2023</td>\n",
       "      <td>New</td>\n",
       "      <td>NaN</td>\n",
       "      <td>Hyundai of Silsbee</td>\n",
       "      <td>37945.0</td>\n",
       "    </tr>\n",
       "    <tr>\n",
       "      <th>...</th>\n",
       "      <td>...</td>\n",
       "      <td>...</td>\n",
       "      <td>...</td>\n",
       "      <td>...</td>\n",
       "      <td>...</td>\n",
       "      <td>...</td>\n",
       "      <td>...</td>\n",
       "    </tr>\n",
       "    <tr>\n",
       "      <th>51788</th>\n",
       "      <td>Chevrolet</td>\n",
       "      <td>Corvette</td>\n",
       "      <td>2023</td>\n",
       "      <td>New</td>\n",
       "      <td>NaN</td>\n",
       "      <td>Chase Chevrolet</td>\n",
       "      <td>122455.0</td>\n",
       "    </tr>\n",
       "    <tr>\n",
       "      <th>51789</th>\n",
       "      <td>Chevrolet</td>\n",
       "      <td>Corvette</td>\n",
       "      <td>2023</td>\n",
       "      <td>New</td>\n",
       "      <td>NaN</td>\n",
       "      <td>Chase Chevrolet</td>\n",
       "      <td>125930.0</td>\n",
       "    </tr>\n",
       "    <tr>\n",
       "      <th>51790</th>\n",
       "      <td>Jeep</td>\n",
       "      <td>Wrangler</td>\n",
       "      <td>2023</td>\n",
       "      <td>New</td>\n",
       "      <td>NaN</td>\n",
       "      <td>Stockton Dodge Chrysler Jeep RAM</td>\n",
       "      <td>53715.0</td>\n",
       "    </tr>\n",
       "    <tr>\n",
       "      <th>51791</th>\n",
       "      <td>Jeep</td>\n",
       "      <td>Wrangler</td>\n",
       "      <td>2023</td>\n",
       "      <td>New</td>\n",
       "      <td>NaN</td>\n",
       "      <td>Stockton Dodge Chrysler Jeep RAM</td>\n",
       "      <td>91450.0</td>\n",
       "    </tr>\n",
       "    <tr>\n",
       "      <th>51792</th>\n",
       "      <td>Chrysler</td>\n",
       "      <td>300</td>\n",
       "      <td>2023</td>\n",
       "      <td>New</td>\n",
       "      <td>NaN</td>\n",
       "      <td>Stockton Dodge Chrysler Jeep RAM</td>\n",
       "      <td>52000.0</td>\n",
       "    </tr>\n",
       "  </tbody>\n",
       "</table>\n",
       "<p>28811 rows × 7 columns</p>\n",
       "</div>"
      ],
      "text/plain": [
       "           brand     model  year status  mileage  \\\n",
       "0          Mazda      CX-5  2023    New      NaN   \n",
       "1            Kia  Sportage  2023    New      NaN   \n",
       "2      Chevrolet    Camaro  2024    New      NaN   \n",
       "7            BMW      M340  2023    New      NaN   \n",
       "8        Hyundai    Sonata  2023    New      NaN   \n",
       "...          ...       ...   ...    ...      ...   \n",
       "51788  Chevrolet  Corvette  2023    New      NaN   \n",
       "51789  Chevrolet  Corvette  2023    New      NaN   \n",
       "51790       Jeep  Wrangler  2023    New      NaN   \n",
       "51791       Jeep  Wrangler  2023    New      NaN   \n",
       "51792   Chrysler       300  2023    New      NaN   \n",
       "\n",
       "                                 dealer     price  \n",
       "0                                   NaN   36703.0  \n",
       "1                           Classic Kia   28990.0  \n",
       "2            Classic Chevrolet Beaumont   41425.0  \n",
       "7                       BMW of Beaumont   61715.0  \n",
       "8                    Hyundai of Silsbee   37945.0  \n",
       "...                                 ...       ...  \n",
       "51788                   Chase Chevrolet  122455.0  \n",
       "51789                   Chase Chevrolet  125930.0  \n",
       "51790  Stockton Dodge Chrysler Jeep RAM   53715.0  \n",
       "51791  Stockton Dodge Chrysler Jeep RAM   91450.0  \n",
       "51792  Stockton Dodge Chrysler Jeep RAM   52000.0  \n",
       "\n",
       "[28811 rows x 7 columns]"
      ]
     },
     "execution_count": 218,
     "metadata": {},
     "output_type": "execute_result"
    }
   ],
   "source": [
    "cars_list_df[cars_list_df['status'] == 'New'] "
   ]
  },
  {
   "cell_type": "markdown",
   "metadata": {},
   "source": [
    "We may think that mileage is null on New cars, let's check it:"
   ]
  },
  {
   "cell_type": "code",
   "execution_count": 219,
   "metadata": {},
   "outputs": [
    {
     "data": {
      "text/html": [
       "<div>\n",
       "<style scoped>\n",
       "    .dataframe tbody tr th:only-of-type {\n",
       "        vertical-align: middle;\n",
       "    }\n",
       "\n",
       "    .dataframe tbody tr th {\n",
       "        vertical-align: top;\n",
       "    }\n",
       "\n",
       "    .dataframe thead th {\n",
       "        text-align: right;\n",
       "    }\n",
       "</style>\n",
       "<table border=\"1\" class=\"dataframe\">\n",
       "  <thead>\n",
       "    <tr style=\"text-align: right;\">\n",
       "      <th></th>\n",
       "      <th>brand</th>\n",
       "      <th>model</th>\n",
       "      <th>year</th>\n",
       "      <th>status</th>\n",
       "      <th>mileage</th>\n",
       "      <th>dealer</th>\n",
       "      <th>price</th>\n",
       "    </tr>\n",
       "  </thead>\n",
       "  <tbody>\n",
       "    <tr>\n",
       "      <th>29127</th>\n",
       "      <td>BMW</td>\n",
       "      <td>Coupe</td>\n",
       "      <td>2023</td>\n",
       "      <td>Used</td>\n",
       "      <td>NaN</td>\n",
       "      <td>BMW of Gwinnett Place</td>\n",
       "      <td>48175.0</td>\n",
       "    </tr>\n",
       "  </tbody>\n",
       "</table>\n",
       "</div>"
      ],
      "text/plain": [
       "      brand  model  year status  mileage                 dealer    price\n",
       "29127   BMW  Coupe  2023   Used      NaN  BMW of Gwinnett Place  48175.0"
      ]
     },
     "execution_count": 219,
     "metadata": {},
     "output_type": "execute_result"
    }
   ],
   "source": [
    "cars_list_df[(cars_list_df['status'] != 'New') & (cars_list_df['mileage'].isna())] "
   ]
  },
  {
   "cell_type": "markdown",
   "metadata": {},
   "source": [
    "So we put it at 0"
   ]
  },
  {
   "cell_type": "code",
   "execution_count": 220,
   "metadata": {},
   "outputs": [],
   "source": [
    "cars_list_df['mileage'].fillna(0, inplace=True) # Inplace = True edits the original df"
   ]
  },
  {
   "cell_type": "code",
   "execution_count": 221,
   "metadata": {},
   "outputs": [],
   "source": [
    "cars_list_df = cars_list_df.dropna(subset=['price'])\n"
   ]
  },
  {
   "cell_type": "markdown",
   "metadata": {},
   "source": [
    "We still need to handle the null values in the 'Dealer' field. Since this is a descriptive (and not quantitative) field, we will replace the null values with 'unknown_dealer'\n"
   ]
  },
  {
   "cell_type": "code",
   "execution_count": 222,
   "metadata": {},
   "outputs": [],
   "source": [
    "cars_list_df['dealer'].fillna('unkown_dealer', inplace=True) # Inplace = True edits the original df"
   ]
  },
  {
   "cell_type": "markdown",
   "metadata": {},
   "source": [
    "We now shouldn't have colums with null values, let's check it:"
   ]
  },
  {
   "cell_type": "code",
   "execution_count": 223,
   "metadata": {},
   "outputs": [
    {
     "data": {
      "text/plain": [
       "brand      100.0\n",
       "model      100.0\n",
       "year       100.0\n",
       "status     100.0\n",
       "mileage    100.0\n",
       "dealer     100.0\n",
       "price      100.0\n",
       "dtype: float64"
      ]
     },
     "execution_count": 223,
     "metadata": {},
     "output_type": "execute_result"
    }
   ],
   "source": [
    "#percentage of not-null values in each columns\n",
    "\n",
    "get_null_percentage(cars_list_df)"
   ]
  },
  {
   "cell_type": "markdown",
   "metadata": {},
   "source": [
    "## Analysis of attributes and links between them"
   ]
  },
  {
   "cell_type": "markdown",
   "metadata": {},
   "source": [
    "In the following sections I'll perform a .value_counts() for every descriptive column of the dataframe, to check for anomalies."
   ]
  },
  {
   "cell_type": "code",
   "execution_count": 224,
   "metadata": {},
   "outputs": [
    {
     "data": {
      "text/plain": [
       "Acura                   819\n",
       "Alfa Romeo              173\n",
       "Aston Martin             71\n",
       "Audi                   1493\n",
       "BMW                    2422\n",
       "Bentley                 103\n",
       "Buick                   465\n",
       "Cadillac               1150\n",
       "Chevrolet              5008\n",
       "Chrysler                342\n",
       "Dodge                  1205\n",
       "FIAT                     28\n",
       "Ferrari                  47\n",
       "Ford                   6383\n",
       "GMC                    2581\n",
       "Genesis                 589\n",
       "Geo                       1\n",
       "Honda                  2012\n",
       "Hummer                   19\n",
       "Hyundai                1129\n",
       "Infiniti                553\n",
       "International Scout       1\n",
       "Isuzu                     1\n",
       "Jaguar                  268\n",
       "Jeep                   3224\n",
       "Karma                     4\n",
       "Kia                    1709\n",
       "Lamborghini              37\n",
       "Land Rover              842\n",
       "Lexus                  1788\n",
       "Lincoln                 587\n",
       "Lotus                     3\n",
       "Lucid                     4\n",
       "MINI                    127\n",
       "Maserati                149\n",
       "Maybach                   1\n",
       "Mazda                  1189\n",
       "McLaren                  37\n",
       "Mercedes               2050\n",
       "Mercury                   7\n",
       "Mitsubishi              284\n",
       "Nissan                 1472\n",
       "Oldsmobile                1\n",
       "Polestar                 24\n",
       "Pontiac                  40\n",
       "Porsche                 683\n",
       "RAM                    1812\n",
       "Rivian                   10\n",
       "Rolls-Royce              61\n",
       "Saab                      6\n",
       "Saturn                   15\n",
       "Scion                    24\n",
       "Smart                     3\n",
       "Subaru                  849\n",
       "Suzuki                    3\n",
       "Tesla                   351\n",
       "Toyota                 4645\n",
       "Volkswagen             1045\n",
       "Volvo                   695\n",
       "Name: brand, dtype: int64"
      ]
     },
     "execution_count": 224,
     "metadata": {},
     "output_type": "execute_result"
    }
   ],
   "source": [
    "cars_list_df.brand.value_counts().sort_index() #Sorting index for a faster check for troubles"
   ]
  },
  {
   "cell_type": "code",
   "execution_count": 225,
   "metadata": {},
   "outputs": [
    {
     "data": {
      "text/plain": [
       "False"
      ]
     },
     "execution_count": 225,
     "metadata": {},
     "output_type": "execute_result"
    }
   ],
   "source": [
    "def isCountDifferent(dataframe, column_name):\n",
    "    indexes =dataframe[column_name].value_counts().index\n",
    "    formatted_indexes = indexes.map(lambda x: x.lower().replace(' ','_').replace('-',''))\n",
    "    return len(formatted_indexes)!=len(indexes)\n",
    "\n",
    "isCountDifferent(cars_list_df, 'brand')"
   ]
  },
  {
   "cell_type": "code",
   "execution_count": 226,
   "metadata": {},
   "outputs": [
    {
     "data": {
      "text/plain": [
       "Ford                   6383\n",
       "Chevrolet              5008\n",
       "Toyota                 4645\n",
       "Jeep                   3224\n",
       "GMC                    2581\n",
       "BMW                    2422\n",
       "Mercedes               2050\n",
       "Honda                  2012\n",
       "RAM                    1812\n",
       "Lexus                  1788\n",
       "Kia                    1709\n",
       "Audi                   1493\n",
       "Nissan                 1472\n",
       "Dodge                  1205\n",
       "Mazda                  1189\n",
       "Cadillac               1150\n",
       "Hyundai                1129\n",
       "Volkswagen             1045\n",
       "Subaru                  849\n",
       "Land Rover              842\n",
       "Acura                   819\n",
       "Volvo                   695\n",
       "Porsche                 683\n",
       "Genesis                 589\n",
       "Lincoln                 587\n",
       "Infiniti                553\n",
       "Buick                   465\n",
       "Tesla                   351\n",
       "Chrysler                342\n",
       "Mitsubishi              284\n",
       "Jaguar                  268\n",
       "Alfa Romeo              173\n",
       "Maserati                149\n",
       "MINI                    127\n",
       "Bentley                 103\n",
       "Aston Martin             71\n",
       "Rolls-Royce              61\n",
       "Ferrari                  47\n",
       "Pontiac                  40\n",
       "Lamborghini              37\n",
       "McLaren                  37\n",
       "FIAT                     28\n",
       "Scion                    24\n",
       "Polestar                 24\n",
       "Hummer                   19\n",
       "Saturn                   15\n",
       "Rivian                   10\n",
       "Mercury                   7\n",
       "Saab                      6\n",
       "Lucid                     4\n",
       "Karma                     4\n",
       "Lotus                     3\n",
       "Smart                     3\n",
       "Suzuki                    3\n",
       "Geo                       1\n",
       "International Scout       1\n",
       "Maybach                   1\n",
       "Oldsmobile                1\n",
       "Isuzu                     1\n",
       "Name: brand, dtype: int64"
      ]
     },
     "execution_count": 226,
     "metadata": {},
     "output_type": "execute_result"
    }
   ],
   "source": [
    "cars_list_df.brand.value_counts() #Sorting index for a faster check for troubles"
   ]
  },
  {
   "cell_type": "code",
   "execution_count": 227,
   "metadata": {},
   "outputs": [
    {
     "data": {
      "text/plain": [
       "False"
      ]
     },
     "execution_count": 227,
     "metadata": {},
     "output_type": "execute_result"
    }
   ],
   "source": [
    "isCountDifferent(cars_list_df, 'model')"
   ]
  },
  {
   "cell_type": "markdown",
   "metadata": {},
   "source": [
    "So there aren't doubles in car models or brands caused by format problems, I can get back to my analysis"
   ]
  },
  {
   "cell_type": "code",
   "execution_count": 228,
   "metadata": {},
   "outputs": [
    {
     "data": {
      "text/plain": [
       "1959        1\n",
       "1967        1\n",
       "1968        1\n",
       "1969        3\n",
       "1970        3\n",
       "1971        4\n",
       "1972        2\n",
       "1973        4\n",
       "1975        2\n",
       "1976        1\n",
       "1977        5\n",
       "1978        1\n",
       "1979        4\n",
       "1982        5\n",
       "1983        1\n",
       "1984        3\n",
       "1985        2\n",
       "1986        3\n",
       "1987        9\n",
       "1988        3\n",
       "1989        8\n",
       "1990       12\n",
       "1991        4\n",
       "1992        5\n",
       "1993        9\n",
       "1994       14\n",
       "1995       18\n",
       "1996       12\n",
       "1997       11\n",
       "1998       11\n",
       "1999       26\n",
       "2000       42\n",
       "2001       44\n",
       "2002       65\n",
       "2003       58\n",
       "2004      105\n",
       "2005      105\n",
       "2006      147\n",
       "2007      182\n",
       "2008      217\n",
       "2009      159\n",
       "2010      243\n",
       "2011      371\n",
       "2012      430\n",
       "2013      591\n",
       "2014      765\n",
       "2015      986\n",
       "2016     1148\n",
       "2017     1493\n",
       "2018     1765\n",
       "2019     2280\n",
       "2020     3149\n",
       "2021     3345\n",
       "2022     4135\n",
       "2023    20466\n",
       "2024     8165\n",
       "Name: year, dtype: int64"
      ]
     },
     "execution_count": 228,
     "metadata": {},
     "output_type": "execute_result"
    }
   ],
   "source": [
    "cars_list_df.year.value_counts().sort_index()"
   ]
  },
  {
   "cell_type": "markdown",
   "metadata": {},
   "source": [
    "It seems like most of the cars are from recent years, I'll check it later"
   ]
  },
  {
   "cell_type": "code",
   "execution_count": 229,
   "metadata": {},
   "outputs": [
    {
     "data": {
      "text/plain": [
       "Certified     3076\n",
       "New          27669\n",
       "Used         19899\n",
       "Name: status, dtype: int64"
      ]
     },
     "execution_count": 229,
     "metadata": {},
     "output_type": "execute_result"
    }
   ],
   "source": [
    "cars_list_df.status.value_counts().sort_index()"
   ]
  },
  {
   "cell_type": "code",
   "execution_count": 230,
   "metadata": {},
   "outputs": [
    {
     "data": {
      "text/plain": [
       "#1 Brookville Chevrolet Buick           1\n",
       "#1 Cochran Cadillac Monroeville         4\n",
       "#1 Cochran Chevrolet                    2\n",
       "#1 Cochran Chrysler Dodge Jeep Ram      4\n",
       "#1 Cochran Ford                         3\n",
       "                                     ... \n",
       "iDrive Motors                           5\n",
       "iDrive1 Motorcars                       3\n",
       "iGOTCARS                               27\n",
       "unkown_dealer                         103\n",
       "xDrive Motors Inc.                      2\n",
       "Name: dealer, Length: 8513, dtype: int64"
      ]
     },
     "execution_count": 230,
     "metadata": {},
     "output_type": "execute_result"
    }
   ],
   "source": [
    "cars_list_df.dealer.value_counts().sort_index()"
   ]
  },
  {
   "cell_type": "code",
   "execution_count": 231,
   "metadata": {},
   "outputs": [
    {
     "data": {
      "text/plain": [
       "False    50617\n",
       "True        27\n",
       "Name: dealer, dtype: int64"
      ]
     },
     "execution_count": 231,
     "metadata": {},
     "output_type": "execute_result"
    }
   ],
   "source": [
    "cars_list_df['dealer'].str.startswith('#1').value_counts()"
   ]
  },
  {
   "cell_type": "markdown",
   "metadata": {},
   "source": [
    "Get rid of '#1' in the dealers name and see if False goes up:"
   ]
  },
  {
   "cell_type": "code",
   "execution_count": 240,
   "metadata": {},
   "outputs": [],
   "source": [
    "dealers = cars_list_df['dealer']\n",
    "sus_dealers= [dealer[3:] if dealer.startswith('#1') else dealer for dealer in dealers]\n",
    "normal_dealers = [dealer[3:] if not dealer.startswith('#1') else dealer for dealer in dealers]"
   ]
  },
  {
   "cell_type": "code",
   "execution_count": 236,
   "metadata": {},
   "outputs": [
    {
     "data": {
      "text/plain": [
       "50644"
      ]
     },
     "execution_count": 236,
     "metadata": {},
     "output_type": "execute_result"
    }
   ],
   "source": [
    "len(cars_list_df['dealer'])"
   ]
  }
 ],
 "metadata": {
  "kernelspec": {
   "display_name": "Python 3",
   "language": "python",
   "name": "python3"
  },
  "language_info": {
   "codemirror_mode": {
    "name": "ipython",
    "version": 3
   },
   "file_extension": ".py",
   "mimetype": "text/x-python",
   "name": "python",
   "nbconvert_exporter": "python",
   "pygments_lexer": "ipython3",
   "version": "3.9.1"
  }
 },
 "nbformat": 4,
 "nbformat_minor": 2
}
